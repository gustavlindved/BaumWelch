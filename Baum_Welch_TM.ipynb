{
  "nbformat": 4,
  "nbformat_minor": 0,
  "metadata": {
    "colab": {
      "name": "Baum_Welch.ipynb",
      "provenance": [],
      "collapsed_sections": []
    },
    "kernelspec": {
      "display_name": "Python 3",
      "language": "python",
      "name": "python3"
    },
    "language_info": {
      "codemirror_mode": {
        "name": "ipython",
        "version": 3
      },
      "file_extension": ".py",
      "mimetype": "text/x-python",
      "name": "python",
      "nbconvert_exporter": "python",
      "pygments_lexer": "ipython3",
      "version": "3.7.4"
    }
  },
  "cells": [
    {
      "cell_type": "markdown",
      "metadata": {
        "colab_type": "text",
        "id": "zbEloWy0zgFn"
      },
      "source": [
        "# Baum-Welch Algorithm"
      ]
    },
    {
      "cell_type": "code",
      "metadata": {
        "colab_type": "code",
        "id": "Jk4CMIT5zSrp",
        "colab": {}
      },
      "source": [
        "# Imports\n",
        "import numpy as np"
      ],
      "execution_count": 34,
      "outputs": []
    },
    {
      "cell_type": "markdown",
      "metadata": {
        "id": "9lCy55TihLbV",
        "colab_type": "text"
      },
      "source": [
        "# Load Biodata"
      ]
    },
    {
      "cell_type": "code",
      "metadata": {
        "id": "px-LSw7JhNG2",
        "colab_type": "code",
        "colab": {
          "base_uri": "https://localhost:8080/",
          "height": 102
        },
        "outputId": "93f36c63-0419-4e9f-a13f-ccf5a145e741"
      },
      "source": [
        "!curl -O https://services.healthtech.dtu.dk/services/TMHMM-2.0/TMHMM/data/set160.labels\n",
        "!pip install biopython"
      ],
      "execution_count": 35,
      "outputs": [
        {
          "output_type": "stream",
          "text": [
            "  % Total    % Received % Xferd  Average Speed   Time    Time     Time  Current\n",
            "                                 Dload  Upload   Total   Spent    Left  Speed\n",
            "\r  0     0    0     0    0     0      0      0 --:--:-- --:--:-- --:--:--     0\r  0     0    0     0    0     0      0      0 --:--:-- --:--:-- --:--:--     0\r100  126k  100  126k    0     0   133k      0 --:--:-- --:--:-- --:--:--  132k\n",
            "Requirement already satisfied: biopython in /usr/local/lib/python3.6/dist-packages (1.77)\n",
            "Requirement already satisfied: numpy in /usr/local/lib/python3.6/dist-packages (from biopython) (1.18.5)\n"
          ],
          "name": "stdout"
        }
      ]
    },
    {
      "cell_type": "code",
      "metadata": {
        "id": "hwAJwmJqhOnk",
        "colab_type": "code",
        "colab": {}
      },
      "source": [
        "from Bio import SeqIO\n",
        "records = list(SeqIO.parse(\"set160.labels\", \"fasta\"))\n",
        "\n",
        "sequence_list = []\n",
        "target_seqs = []\n",
        "\n",
        "for record in records:\n",
        "  input_seq, target_seq = record.seq.split(\"#\")\n",
        "  sequence_list.append(str(input_seq))\n",
        "  target_seqs.append(str(target_seq))"
      ],
      "execution_count": 36,
      "outputs": []
    },
    {
      "cell_type": "markdown",
      "metadata": {
        "id": "7PUU9mZjHD2P",
        "colab_type": "text"
      },
      "source": [
        "# Define functions"
      ]
    },
    {
      "cell_type": "code",
      "metadata": {
        "id": "XNeeV7Zka5QR",
        "colab_type": "code",
        "colab": {}
      },
      "source": [
        "# Do an integer encoding of input sequence\n",
        "def encode( sequence, symbols):\n",
        "    \n",
        "    enc = [0] * len(sequence)\n",
        "    \n",
        "    for i in range(len(sequence)):\n",
        "        enc[i] = symbols.find(sequence[i])\n",
        "    \n",
        "    return(enc)"
      ],
      "execution_count": 37,
      "outputs": []
    },
    {
      "cell_type": "code",
      "metadata": {
        "id": "KWqdVNabRogk",
        "colab_type": "code",
        "colab": {}
      },
      "source": [
        "# Function for scaling\n",
        "def normalize(v):\n",
        "    norm = np.sum(v)\n",
        "    v = v/norm\n",
        "    return (v, norm)"
      ],
      "execution_count": 38,
      "outputs": []
    },
    {
      "cell_type": "markdown",
      "metadata": {
        "colab_type": "text",
        "id": "_qWOQUfGkJOI"
      },
      "source": [
        "## Forward Loop"
      ]
    },
    {
      "cell_type": "code",
      "metadata": {
        "colab_type": "code",
        "id": "fyHv6-vuzxt2",
        "colab": {}
      },
      "source": [
        "def initialize_forward(input_encode, states, initial_prob, emission_probs):\n",
        "    \n",
        "    alpha = np.zeros(shape=(states, len(input_encode)))\n",
        "        \n",
        "    for i in range(0, states): \n",
        "        \n",
        "        alpha[i][0] = initial_prob[i]*emission_probs[i][input_encode[0]]\n",
        "        \n",
        "    return alpha"
      ],
      "execution_count": 39,
      "outputs": []
    },
    {
      "cell_type": "code",
      "metadata": {
        "colab_type": "code",
        "id": "2A6Rx7sukIjM",
        "scrolled": true,
        "colab": {}
      },
      "source": [
        "def run_forward(input_encode, states, initial_prob, emission_probs):\n",
        "\n",
        "    alpha = initialize_forward(input_encode, states, initial_prob, emission_probs)\n",
        "    norm_vector = np.zeros(len(input_encode))\n",
        "    alpha[:,0], norm_vector[0] = normalize(alpha[:,0])\n",
        "\n",
        "\n",
        "    for i in range(1, len(input_encode)):\n",
        "        \n",
        "        for j in range(0, states):\n",
        "\n",
        "            _sum = 0\n",
        "            \n",
        "            for k in range(0, states):\n",
        "                \n",
        "                _sum += alpha[k][i-1] * transition_matrix[k,j] \n",
        "      \n",
        "            # store prob\n",
        "            alpha[j][i] = emission_probs[j][input_encode[i]] * _sum\n",
        "\n",
        "        # Normalize\n",
        "        alpha[:,i],norm_vector[i] = normalize(alpha[:,i])\n",
        "\n",
        "    return alpha, norm_vector"
      ],
      "execution_count": 40,
      "outputs": []
    },
    {
      "cell_type": "markdown",
      "metadata": {
        "colab_type": "text",
        "id": "R8IztniOkK8Q"
      },
      "source": [
        "## Backward Loop"
      ]
    },
    {
      "cell_type": "code",
      "metadata": {
        "colab_type": "code",
        "id": "TngUQKM2kTY_",
        "colab": {}
      },
      "source": [
        "def initialize_backward(input_encode, states):\n",
        "  \n",
        "    \n",
        "    beta = np.zeros(shape=(states, len(input_encode)))\n",
        "        \n",
        "    for i in range(0, states):\n",
        "  \n",
        "        beta[i][-1] = 1\n",
        "        \n",
        "    return beta"
      ],
      "execution_count": 41,
      "outputs": []
    },
    {
      "cell_type": "code",
      "metadata": {
        "colab_type": "code",
        "id": "SasPJXJYnhM1",
        "colab": {}
      },
      "source": [
        "def run_backward(input_encode, states, emission_probs, transition_matrix, norm_vector):\n",
        "\n",
        "    beta = initialize_backward(input_encode, states)\n",
        "\n",
        "    for t in range(len(input_encode)-2, -1 , -1):\n",
        "      for i in range(states):\n",
        "\n",
        "            _sum = 0\n",
        "\n",
        "            for j in range(states):\n",
        "              _sum += beta[j][t+1] * transition_matrix[i][j] * emission_probs[j][input_encode[t+1]]\n",
        "                \n",
        "            # store prob\n",
        "            beta[i][t] = _sum\n",
        "\n",
        "      beta[:,t] = beta[:,t] / norm_vector[t]\n",
        "\n",
        "    return beta"
      ],
      "execution_count": 42,
      "outputs": []
    },
    {
      "cell_type": "markdown",
      "metadata": {
        "id": "UfTVUrwr9TsT",
        "colab_type": "text"
      },
      "source": [
        "##Load sequences"
      ]
    },
    {
      "cell_type": "code",
      "metadata": {
        "colab_type": "code",
        "id": "pmvxr0uUk_sd",
        "colab": {}
      },
      "source": [
        "symbols = 'DCILTPGRYQWNFHKMVEAS'\n",
        "\n",
        "# Encode sequences\n",
        "encoded_list = []\n",
        "max_seq_length = 0\n",
        "for input_sequence in sequence_list:\n",
        "  encoded_list.append(encode(input_sequence, symbols))\n",
        "  if len(input_sequence) > max_seq_length:\n",
        "    max_seq_length = len(input_sequence)\n",
        "\n",
        "V = len(symbols)\n",
        "num_sequence = len(encoded_list)"
      ],
      "execution_count": 43,
      "outputs": []
    },
    {
      "cell_type": "markdown",
      "metadata": {
        "id": "bIHTEj4T8sqb",
        "colab_type": "text"
      },
      "source": [
        "##Implementaion of Baum-Welsh"
      ]
    },
    {
      "cell_type": "code",
      "metadata": {
        "id": "NlfxLsYBvNjV",
        "colab_type": "code",
        "colab": {
          "base_uri": "https://localhost:8080/",
          "height": 1000
        },
        "outputId": "6b3567bc-d4fa-43c2-a147-fb4650b56827"
      },
      "source": [
        "states = 4 # Expect: 0= iC, 1 = Membrane, 2 = eC, 3 = Membrane\n",
        "num_iters = 100\n",
        "\n",
        "# Chose initial model\n",
        "initial_prob = np.array([0.5, 0.0, 0.5, 0.0])\n",
        "\n",
        "transition_matrix = np.array([[9/10, 1/10, 0.0, 0.0], [0.0, 24/25, 1/25, 0.0], [0.0, 0.0, 9/10, 1/10], [1/25, 0.0, 0.0, 24/25]])\n",
        "\n",
        "# Initial guess\n",
        "# All aminoacids have the same prob (could be changed to background freqs)\n",
        "state1_guess = np.repeat(1/V, V)\n",
        "state2_guess = np.repeat(1/V, V)\n",
        "state3_guess = np.repeat(1/V, V)\n",
        "state4_guess = np.repeat(1/V, V)\n",
        "\n",
        "emission_probs = [state1_guess, state2_guess, state3_guess, state4_guess]\n",
        "\n",
        "for iteration in range(num_iters):\n",
        "  print('Starting iteration ', iteration)\n",
        "    \n",
        "  # Initiate xi\n",
        "  xi = np.zeros(max_seq_length*states*states*num_sequence).reshape(states,states,max_seq_length,num_sequence)\n",
        "\n",
        "  gamma = np.zeros(max_seq_length*states*num_sequence).reshape(states,max_seq_length,num_sequence)\n",
        "  gamma_sums = np.zeros(max_seq_length*states*num_sequence).reshape(states,max_seq_length,num_sequence)\n",
        "\n",
        "  for r in range(num_sequence):\n",
        "\n",
        "    # Load and encode sequence\n",
        "    input_encode = encoded_list[r]\n",
        "    T = len(input_encode)\n",
        "\n",
        "    # Calculate alpha and beta matrix\n",
        "    alpha, norm_vector = run_forward(input_encode, states, initial_prob, emission_probs)\n",
        "    beta = run_backward(input_encode, states, emission_probs, transition_matrix, norm_vector)\n",
        "\n",
        "    for i in range(states):\n",
        "      for t in range(T-1):\n",
        "        for j in range(states):\n",
        "\n",
        "          # Calculate denominator\n",
        "          gamma_sums[i][t][r] += alpha[j][t] * beta[j][t]\n",
        "          # Calculate Xi\n",
        "          \n",
        "          # Summation of denominator of xi\n",
        "          xi_denominator = 0\n",
        "\n",
        "          for k in range(states):\n",
        "            for w in range(states):\n",
        "\n",
        "              # check that transition matrix is defined correct?\n",
        "              xi_denominator += alpha[k][t] * transition_matrix[k][w] * beta[w][t+1] * emission_probs[w][input_encode[t+1]]\n",
        "\n",
        "          # Calculate xi\n",
        "          xi[i][j][t][r] = (alpha[i][t] * transition_matrix[i][j] * beta[j][t+1] * emission_probs[j][input_encode[t+1]]) / xi_denominator # Check this\n",
        "\n",
        "        gamma[i][t][r] = (alpha[i][t] * beta[i][t]) / gamma_sums[i][t][r]\n",
        "\n",
        "\n",
        "  # Update of parameters\n",
        "  for i in range(states):\n",
        "\n",
        "    # Update initial probabilities\n",
        "    initial_prob[i] = 0\n",
        "    for r in range(num_sequence):\n",
        "      initial_prob[i] += gamma[i][1][r] / num_sequence\n",
        "\n",
        "    for j in range(states):\n",
        "\n",
        "      # Update transition matrix\n",
        "      xi_sum = 0\n",
        "      gamma_sum = 0\n",
        "\n",
        "      for r in range(num_sequence):\n",
        "        T = len(encoded_list[r]) \n",
        "        for t in range(T-1):\n",
        "        \n",
        "          xi_sum += xi[i][j][t][r]\n",
        "          gamma_sum += gamma[i][t][r]\n",
        "      \n",
        "      transition_matrix[i][j] = xi_sum / gamma_sum\n",
        "\n",
        "      # Update emission probs\n",
        "      for k in range(V):\n",
        "        denominator_sum = 0\n",
        "        numerator_sum = 0\n",
        "        for r in range(num_sequence):\n",
        "          T = len(encoded_list[r]) \n",
        "          for t in range(T):\n",
        "          \n",
        "            denominator_sum += gamma[i][t][r]\n",
        "        \n",
        "            if encoded_list[r][t] == k:\n",
        "              numerator_sum += gamma[i][t][r]\n",
        "          \n",
        "        emission_probs[i][k] = numerator_sum / denominator_sum\n",
        "\n",
        "  \n",
        "  # Normalize transition\n",
        "  for row in range(states):\n",
        "    summ = sum(transition_matrix[row])\n",
        "    for col in range(states):\n",
        "      transition_matrix[row][col] = transition_matrix[row][col] / summ\n",
        "  \n",
        "  # Normalize emission\n",
        "  for row in range(states):\n",
        "    summ = sum(emission_probs[row])\n",
        "    for col in range(V):\n",
        "      emission_probs[row][col] = emission_probs[row][col] / summ  \n",
        "\n",
        "print('iteration: ', iteration)\n",
        "print('Initial probabilities: ')\n",
        "print(initial_prob)\n",
        "print('Normalized transition matrix')\n",
        "print(transition_matrix)\n",
        "print('Normalized Emission probabilities')\n",
        "print(emission_probs)\n",
        "      "
      ],
      "execution_count": 44,
      "outputs": [
        {
          "output_type": "stream",
          "text": [
            "Starting iteration  0\n",
            "Starting iteration  1\n",
            "Starting iteration  2\n",
            "Starting iteration  3\n",
            "Starting iteration  4\n",
            "Starting iteration  5\n",
            "Starting iteration  6\n",
            "Starting iteration  7\n",
            "Starting iteration  8\n",
            "Starting iteration  9\n",
            "Starting iteration  10\n",
            "Starting iteration  11\n",
            "Starting iteration  12\n",
            "Starting iteration  13\n",
            "Starting iteration  14\n",
            "Starting iteration  15\n",
            "Starting iteration  16\n",
            "Starting iteration  17\n",
            "Starting iteration  18\n",
            "Starting iteration  19\n",
            "Starting iteration  20\n",
            "Starting iteration  21\n",
            "Starting iteration  22\n",
            "Starting iteration  23\n",
            "Starting iteration  24\n",
            "Starting iteration  25\n",
            "Starting iteration  26\n",
            "Starting iteration  27\n",
            "Starting iteration  28\n",
            "Starting iteration  29\n",
            "Starting iteration  30\n",
            "Starting iteration  31\n",
            "Starting iteration  32\n",
            "Starting iteration  33\n",
            "Starting iteration  34\n",
            "Starting iteration  35\n",
            "Starting iteration  36\n",
            "Starting iteration  37\n",
            "Starting iteration  38\n",
            "Starting iteration  39\n",
            "Starting iteration  40\n",
            "Starting iteration  41\n",
            "Starting iteration  42\n",
            "Starting iteration  43\n",
            "Starting iteration  44\n",
            "Starting iteration  45\n",
            "Starting iteration  46\n",
            "Starting iteration  47\n",
            "Starting iteration  48\n",
            "Starting iteration  49\n",
            "Starting iteration  50\n"
          ],
          "name": "stdout"
        },
        {
          "output_type": "error",
          "ename": "KeyboardInterrupt",
          "evalue": "ignored",
          "traceback": [
            "\u001b[0;31m---------------------------------------------------------------------------\u001b[0m",
            "\u001b[0;31mKeyboardInterrupt\u001b[0m                         Traceback (most recent call last)",
            "\u001b[0;32m<ipython-input-44-221c4eaf6eab>\u001b[0m in \u001b[0;36m<module>\u001b[0;34m()\u001b[0m\n\u001b[1;32m     50\u001b[0m \u001b[0;34m\u001b[0m\u001b[0m\n\u001b[1;32m     51\u001b[0m               \u001b[0;31m# check that transition matrix is defined correct?\u001b[0m\u001b[0;34m\u001b[0m\u001b[0;34m\u001b[0m\u001b[0;34m\u001b[0m\u001b[0m\n\u001b[0;32m---> 52\u001b[0;31m               \u001b[0mxi_denominator\u001b[0m \u001b[0;34m+=\u001b[0m \u001b[0malpha\u001b[0m\u001b[0;34m[\u001b[0m\u001b[0mk\u001b[0m\u001b[0;34m]\u001b[0m\u001b[0;34m[\u001b[0m\u001b[0mt\u001b[0m\u001b[0;34m]\u001b[0m \u001b[0;34m*\u001b[0m \u001b[0mtransition_matrix\u001b[0m\u001b[0;34m[\u001b[0m\u001b[0mk\u001b[0m\u001b[0;34m]\u001b[0m\u001b[0;34m[\u001b[0m\u001b[0mw\u001b[0m\u001b[0;34m]\u001b[0m \u001b[0;34m*\u001b[0m \u001b[0mbeta\u001b[0m\u001b[0;34m[\u001b[0m\u001b[0mw\u001b[0m\u001b[0;34m]\u001b[0m\u001b[0;34m[\u001b[0m\u001b[0mt\u001b[0m\u001b[0;34m+\u001b[0m\u001b[0;36m1\u001b[0m\u001b[0;34m]\u001b[0m \u001b[0;34m*\u001b[0m \u001b[0memission_probs\u001b[0m\u001b[0;34m[\u001b[0m\u001b[0mw\u001b[0m\u001b[0;34m]\u001b[0m\u001b[0;34m[\u001b[0m\u001b[0minput_encode\u001b[0m\u001b[0;34m[\u001b[0m\u001b[0mt\u001b[0m\u001b[0;34m+\u001b[0m\u001b[0;36m1\u001b[0m\u001b[0;34m]\u001b[0m\u001b[0;34m]\u001b[0m\u001b[0;34m\u001b[0m\u001b[0;34m\u001b[0m\u001b[0m\n\u001b[0m\u001b[1;32m     53\u001b[0m \u001b[0;34m\u001b[0m\u001b[0m\n\u001b[1;32m     54\u001b[0m           \u001b[0;31m# Calculate xi\u001b[0m\u001b[0;34m\u001b[0m\u001b[0;34m\u001b[0m\u001b[0;34m\u001b[0m\u001b[0m\n",
            "\u001b[0;31mKeyboardInterrupt\u001b[0m: "
          ]
        }
      ]
    },
    {
      "cell_type": "code",
      "metadata": {
        "id": "OTp6Q2ChRune",
        "colab_type": "code",
        "colab": {
          "base_uri": "https://localhost:8080/",
          "height": 391
        },
        "outputId": "85374d12-bdd9-4255-dc48-f6df68580f4c"
      },
      "source": [
        "print('iteration: ', iteration)\n",
        "print('Initial probabilities: ')\n",
        "print(initial_prob)\n",
        "print('Normalized transition matrix')\n",
        "print(transition_matrix)\n",
        "print('Normalized Emission probabilities')\n",
        "print(emission_probs)"
      ],
      "execution_count": 45,
      "outputs": [
        {
          "output_type": "stream",
          "text": [
            "iteration:  50\n",
            "Initial probabilities: \n",
            "[0.14439263 0.35560737 0.14439263 0.35560737]\n",
            "Normalized transition matrix\n",
            "[[0.94770004 0.05229996 0.         0.        ]\n",
            " [0.         0.97857193 0.02142807 0.        ]\n",
            " [0.         0.         0.94770004 0.05229996]\n",
            " [0.02142807 0.         0.         0.97857193]]\n",
            "Normalized Emission probabilities\n",
            "[array([0.01029153, 0.01908291, 0.10631847, 0.15678684, 0.05062867,\n",
            "       0.03221489, 0.09260626, 0.01123382, 0.03736221, 0.00938103,\n",
            "       0.027464  , 0.02032179, 0.08649205, 0.00934898, 0.00978675,\n",
            "       0.04142035, 0.10402677, 0.00949588, 0.10868485, 0.05705196]), array([0.05531167, 0.02006601, 0.04584805, 0.08552509, 0.06001331,\n",
            "       0.05545439, 0.06466026, 0.06295773, 0.03449989, 0.04531023,\n",
            "       0.01624969, 0.04823913, 0.03642936, 0.02305122, 0.05703138,\n",
            "       0.02345883, 0.06187132, 0.06564297, 0.06760485, 0.07077462]), array([0.01029153, 0.01908291, 0.10631847, 0.15678684, 0.05062867,\n",
            "       0.03221489, 0.09260626, 0.01123382, 0.03736221, 0.00938103,\n",
            "       0.027464  , 0.02032179, 0.08649205, 0.00934898, 0.00978675,\n",
            "       0.04142035, 0.10402677, 0.00949588, 0.10868485, 0.05705196]), array([0.05531167, 0.02006601, 0.04584805, 0.08552509, 0.06001331,\n",
            "       0.05545439, 0.06466026, 0.06295773, 0.03449989, 0.04531023,\n",
            "       0.01624969, 0.04823913, 0.03642936, 0.02305122, 0.05703138,\n",
            "       0.02345883, 0.06187132, 0.06564297, 0.06760485, 0.07077462])]\n"
          ],
          "name": "stdout"
        }
      ]
    },
    {
      "cell_type": "markdown",
      "metadata": {
        "id": "AcT_uajueEKj",
        "colab_type": "text"
      },
      "source": [
        "# Viterbi - Run on one sequence"
      ]
    },
    {
      "cell_type": "code",
      "metadata": {
        "id": "CRISQKWUg0Kr",
        "colab_type": "code",
        "colab": {}
      },
      "source": [
        "# Define new sequence\n",
        "input_sequence = sequence_list[0]"
      ],
      "execution_count": 58,
      "outputs": []
    },
    {
      "cell_type": "code",
      "metadata": {
        "id": "0Ip_ubaaeGHl",
        "colab_type": "code",
        "colab": {}
      },
      "source": [
        "def initialize(encode_sequence, states, initial_prob, transition_matrix, emission_probs):\n",
        "    \n",
        "    delta = np.zeros(shape=(states, len(encode_sequence)))\n",
        "    \n",
        "    arrows = np.ndarray(shape=(states, len(encode_sequence)), dtype=object)\n",
        "    \n",
        "    # initial conditions\n",
        "    for i in range(0, states):\n",
        "\n",
        "\t## delta[i][0] = XX  \n",
        "        delta[i][0] = initial_prob[i] + emission_probs[i][encode_sequence[0]]\n",
        "    \n",
        "        arrows[i][0] = 0\n",
        "    \n",
        "    return delta, arrows"
      ],
      "execution_count": 59,
      "outputs": []
    },
    {
      "cell_type": "code",
      "metadata": {
        "id": "eM3R0YT-eHOg",
        "colab_type": "code",
        "colab": {
          "base_uri": "https://localhost:8080/",
          "height": 153
        },
        "outputId": "1b894ea8-ed4e-4ca2-f8ac-8e305b122596"
      },
      "source": [
        "input_encode = encode(input_sequence, symbols)\n",
        "\n",
        "delta, arrows = initialize(input_encode, states, initial_prob, transition_matrix, emission_probs)\n",
        "\n",
        "# main loop\n",
        "for i in range(1, len(input_sequence)):\n",
        "    \n",
        "    for j in range(0, states):\n",
        "        \n",
        "        max_arrow_prob = -np.inf\n",
        "        max_arrow_prob_state = -1\n",
        "        \n",
        "        for k in range(0, states):\n",
        "           \n",
        "\t    # arrow_prob = XX \n",
        "            arrow_prob = delta[k][i-1] + transition_matrix[k, j]\n",
        "            \n",
        "            if arrow_prob > max_arrow_prob: \n",
        "\t\t# max_arrow_prob = XX\n",
        "                max_arrow_prob = arrow_prob\n",
        "                # max_arrow_prob_state = XX\n",
        "                max_arrow_prob_state = k\n",
        "            \n",
        "        # store prob\n",
        "\t# delta[j][i] = XX + max_arrow_prob\n",
        "        delta[j][i] = emission_probs[j][input_encode[i]] + max_arrow_prob\n",
        "\n",
        "        # store arrow\n",
        "        arrows[j][i] = max_arrow_prob_state\n",
        "\n",
        "print(delta)\n"
      ],
      "execution_count": 60,
      "outputs": [
        {
          "output_type": "stream",
          "text": [
            "[[1.85812982e-01 1.24219787e+00 2.19968466e+00 ... 6.64096927e+02\n",
            "  6.65054918e+02 6.66050833e+02]\n",
            " [3.79066191e-01 1.42524297e+00 2.46084628e+00 ... 6.64985735e+02\n",
            "  6.66019618e+02 6.67055222e+02]\n",
            " [1.85812982e-01 1.24219787e+00 2.19968466e+00 ... 6.64096927e+02\n",
            "  6.65054918e+02 6.66050833e+02]\n",
            " [3.79066191e-01 1.42524297e+00 2.46084628e+00 ... 6.64985735e+02\n",
            "  6.66019618e+02 6.67055222e+02]]\n"
          ],
          "name": "stdout"
        }
      ]
    },
    {
      "cell_type": "code",
      "metadata": {
        "id": "6Wi48RHeeSz1",
        "colab_type": "code",
        "colab": {
          "base_uri": "https://localhost:8080/",
          "height": 88
        },
        "outputId": "f3f50a6e-63b2-4930-823d-4ffebdc87678"
      },
      "source": [
        "path = []\n",
        "\n",
        "max_state = np.argmax(delta[:, -1])\n",
        "max_value = delta[max_state, -1]\n",
        "\n",
        "print (\"log(Max_path):\", max_value)\n",
        "\n",
        "print (\"Seq: \", input_sequence)\n",
        "\n",
        "path.append(str(max_state))\n",
        "\n",
        "old_state = max_state\n",
        "\n",
        "for i in range(len(input_encode)-2, -1, -1):\n",
        "    \n",
        "    # current_state = arrows[XX][i+1]\n",
        "    current_state = arrows[old_state][i+1]\n",
        "    \n",
        "    path.append(str(current_state))\n",
        "\n",
        "    old_state = current_state \n",
        "    \n",
        "path_str = \"\".join(reversed(path)).replace('0','i').replace('1','M').replace('2','o').replace('3','M')\n",
        "\n",
        "print (\"Path:\", path_str)"
      ],
      "execution_count": 61,
      "outputs": [
        {
          "output_type": "stream",
          "text": [
            "log(Max_path): 667.0552216790004\n",
            "Seq:  MAKNLILWLVIAVVLMSVFQSFGPSESNGRKVDYSTFLQEVNNDQVREARINGREINVTKKDSNRYTTYIPVQDPKLLDNLLTKNVKVVGEPPEEPSLLASIFISWFPMLLLIGVWIFFMRQMQGGGGKGAMSFGKSKARMLTEDQIKTTFADVAGCDEAKEEVAELVEYLREPSRFQKLGGKIPKGVLMVGPPGTGKTLLAKAIAGEAKVPFFTISGSDFVEMFVGVGASRVRDMFEQAKKAAPCIIFIDEIDAVGRQRGAGLGGGHDEREQTLNQMLVEMDGFEGNEGIIVIAATNRPDVLDPALLRPGRFDRQVVVGLPDVRGREQILKVHMRRVPLAPDIDAAIIARGTPGFSGADLANLVNEAALFAARGNKRVVSMVEFEKAKDKIMMGAERRSMVMTEAQKESTAYHEAGHAIIGRLVPEHDPVHKVTIIPRGRALGVTFFLPEGDAISASRQKLESQISTLYGGRLAEEIIYGPEHVSTGASNDIKVATNLARNMVTQWGFSEKLGPLLYAEEEGEVFLGRSVAKAKHMSDETARIIDQEVKALIERNYNRARQLLTDNMDILHAMKDALMKYETIDAPQIDDLMARRDVRPPAGWEEPGASNNSGDNGSPKAPRPVDEPRTPNPGNTMSEQLGDK\n",
            "Path: MMMMMMMMMMMMMMMMMMMMMMMMMMMMMMMMMMMMMMMMMMMMMMMMMMMMMMMMMMMMMMMMMMMMMMMMMMMMMMMMMMMMMMMMMMMMMMMMMMMMMMMMMMMMMMMMMMMMMMMMMMMMMMMMMMMMMMMMMMMMMMMMMMMMMMMMMMMMMMMMMMMMMMMMMMMMMMMMMMMMMMMMMMMMMMMMMMMMMMMMMMMMMMMMMMMMMMMMMMMMMMMMMMMMMMMMMMMMMMMMMMMMMMMMMMMMMMMMMMMMMMMMMMMMMMMMMMMMMMMMMMMMMMMMMMMMMMMMMMMMMMMMMMMMMMMMMMMMMMMMMMMMMMMMMMMMMMMMMMMMMMMMMMMMMMMMMMMMMMMMMMMMMMMMMMMMMMMMMMMMMMMMMMMMMMMMMMMMMMMMMMMMMMMMMMMMMMMMMMMMMMMMMMMMMMMMMMMMMMMMMMMMMMMMMMMMMMMMMMMMMMMMMMMMMMMMMMMMMMMMMMMMMMMMMMMMMMMMMMMMMMMMMMMMMMMMMMMMMMMMMMMMMMMMMMMMMMMMMMMMMMMMMMMMMMMMMMMMMMMMMMMMMMMMMMMMMMMMMMMMMMMMMMMMMMMMMMMMMMMMMMMMMMMMMMMMMMMMMMMMMMMMMMMMMMMMMMMMMMMMMMMM\n"
          ],
          "name": "stdout"
        }
      ]
    },
    {
      "cell_type": "code",
      "metadata": {
        "id": "Ogbzg-1FLPxm",
        "colab_type": "code",
        "colab": {
          "base_uri": "https://localhost:8080/",
          "height": 71
        },
        "outputId": "317e1c2f-52c1-46b3-e095-dd9bcb3c983b"
      },
      "source": [
        "target_sequence = target_seqs[0]\n",
        "print(target_sequence)\n",
        "print(path_str)"
      ],
      "execution_count": 62,
      "outputs": [
        {
          "output_type": "stream",
          "text": [
            "iiiiMMMMMMMMMMMMMMMMMMMMoooooooooooooooooooooooooooooooooooooooooooooooooooooooooooooooooooooooMMMMMMMMMMMMMMMMMMMMMMMMMiiiiiiiiiiiiiiiiiiiiiiiiiiiiiiiiiiiiiiiiiiiiiiiiiiiiiiiiiiiiiiiiiiiiiiiiiiiiiiiiiiiiiiiiiiiiiiiiiiiiiiiiiiiiiiiiiiiiiiiiiiiiiiiiiiiiiiiiiiiiiiiiiiiiiiiiiiiiiiiiiiiiiiiiiiiiiiiiiiiiiiiiiiiiiiiiiiiiiiiiiiiiiiiiiiiiiiiiiiiiiiiiiiiiiiiiiiiiiiiiiiiiiiiiiiiiiiiiiiiiiiiiiiiiiiiiiiiiiiiiiiiiiiiiiiiiiiiiiiiiiiiiiiiiiiiiiiiiiiiiiiiiiiiiiiiiiiiiiiiiiiiiiiiiiiiiiiiiiiiiiiiiiiiiiiiiiiiiiiiiiiiiiiiiiiiiiiiiiiiiiiiiiiiiiiiiiiiiiiiiiiiiiiiiiiiiiiiiiiiiiiiiiiiiiiiiiiiiiiiiiiiiiiiiiiiiiiiiiiiiiiiiiiiiiiiiiiiiiiiiiiiiiiiiiiiiiiiiiiiiiiii\n",
            "MMMMMMMMMMMMMMMMMMMMMMMMMMMMMMMMMMMMMMMMMMMMMMMMMMMMMMMMMMMMMMMMMMMMMMMMMMMMMMMMMMMMMMMMMMMMMMMMMMMMMMMMMMMMMMMMMMMMMMMMMMMMMMMMMMMMMMMMMMMMMMMMMMMMMMMMMMMMMMMMMMMMMMMMMMMMMMMMMMMMMMMMMMMMMMMMMMMMMMMMMMMMMMMMMMMMMMMMMMMMMMMMMMMMMMMMMMMMMMMMMMMMMMMMMMMMMMMMMMMMMMMMMMMMMMMMMMMMMMMMMMMMMMMMMMMMMMMMMMMMMMMMMMMMMMMMMMMMMMMMMMMMMMMMMMMMMMMMMMMMMMMMMMMMMMMMMMMMMMMMMMMMMMMMMMMMMMMMMMMMMMMMMMMMMMMMMMMMMMMMMMMMMMMMMMMMMMMMMMMMMMMMMMMMMMMMMMMMMMMMMMMMMMMMMMMMMMMMMMMMMMMMMMMMMMMMMMMMMMMMMMMMMMMMMMMMMMMMMMMMMMMMMMMMMMMMMMMMMMMMMMMMMMMMMMMMMMMMMMMMMMMMMMMMMMMMMMMMMMMMMMMMMMMMMMMMMMMMMMMMMMMMMMMMMMMMMMMMMMMMMMMMMMMMMMMMMMMMMMMMMMMMMMMMMMMMMMMMMMMMMMMM\n"
          ],
          "name": "stdout"
        }
      ]
    },
    {
      "cell_type": "code",
      "metadata": {
        "id": "_x-OsqPSLkmL",
        "colab_type": "code",
        "colab": {}
      },
      "source": [
        ""
      ],
      "execution_count": 62,
      "outputs": []
    }
  ]
}