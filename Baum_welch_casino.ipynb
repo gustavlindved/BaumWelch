{
  "nbformat": 4,
  "nbformat_minor": 0,
  "metadata": {
    "colab": {
      "name": "Casino_Baum_Welch.ipynb",
      "provenance": [],
      "collapsed_sections": []
    },
    "kernelspec": {
      "display_name": "Python 3",
      "language": "python",
      "name": "python3"
    },
    "language_info": {
      "codemirror_mode": {
        "name": "ipython",
        "version": 3
      },
      "file_extension": ".py",
      "mimetype": "text/x-python",
      "name": "python",
      "nbconvert_exporter": "python",
      "pygments_lexer": "ipython3",
      "version": "3.7.4"
    }
  },
  "cells": [
    {
      "cell_type": "markdown",
      "metadata": {
        "colab_type": "text",
        "id": "zbEloWy0zgFn"
      },
      "source": [
        "# Baum-Welch Algorithm (Casino data)\n"
      ]
    },
    {
      "cell_type": "markdown",
      "metadata": {
        "colab_type": "text",
        "id": "yoG3k9pCzk3c"
      },
      "source": [
        "## Python Imports"
      ]
    },
    {
      "cell_type": "code",
      "metadata": {
        "colab_type": "code",
        "id": "Jk4CMIT5zSrp",
        "colab": {}
      },
      "source": [
        "import numpy as np\n",
        "import matplotlib.pyplot as plt\n",
        "import seaborn as sns\n",
        "import random"
      ],
      "execution_count": 89,
      "outputs": []
    },
    {
      "cell_type": "markdown",
      "metadata": {
        "id": "9lCy55TihLbV",
        "colab_type": "text"
      },
      "source": [
        "# Generate data"
      ]
    },
    {
      "cell_type": "code",
      "metadata": {
        "id": "Fq6lEMK8bMUd",
        "colab_type": "code",
        "colab": {}
      },
      "source": [
        "def GenerateDiceData(seq_len):\n",
        "  DiceRoll = []\n",
        "  dice_state = []\n",
        "  current_state = np.random.choice([0, 1])\n",
        "  \n",
        "  for i in range(0, seq_len):  \n",
        "    dice_state.append(current_state)\n",
        "    if current_state == 0:\n",
        "      roll = np.random.choice(np.arange(0, 6), p=[1./6, 1./6, 1./6, 1./6, 1./6, 1./6])\n",
        "      DiceRoll.append(roll)\n",
        "      current_state = np.random.choice([0,1], p = [0.95, 0.05])\n",
        "    elif current_state == 1:\n",
        "      roll = np.random.choice(np.arange(0, 6), p=[1./10, 1./10, 1./10, 1./10, 1./10, 5./10])\n",
        "      DiceRoll.append(roll)\n",
        "      current_state = np.random.choice([0,1], p = [0.1, 0.9])\n",
        "  return DiceRoll, dice_state"
      ],
      "execution_count": 90,
      "outputs": []
    },
    {
      "cell_type": "code",
      "metadata": {
        "id": "i16CSbgAcyA-",
        "colab_type": "code",
        "colab": {}
      },
      "source": [
        "num_sequence = 300\n",
        "seq_len = 40\n",
        "\n",
        "encoded_list = []\n",
        "for i in range(num_sequence):\n",
        "  seq,_ = GenerateDiceData(seq_len)\n",
        "  encoded_list.append(seq)"
      ],
      "execution_count": 91,
      "outputs": []
    },
    {
      "cell_type": "code",
      "metadata": {
        "id": "rTLLOvWaGx0y",
        "colab_type": "code",
        "colab": {
          "base_uri": "https://localhost:8080/",
          "height": 282
        },
        "outputId": "0e890564-dfce-4793-8f75-cef380eb398a"
      },
      "source": [
        "sns.distplot(encoded_list)"
      ],
      "execution_count": 92,
      "outputs": [
        {
          "output_type": "execute_result",
          "data": {
            "text/plain": [
              "<matplotlib.axes._subplots.AxesSubplot at 0x7f060540d9b0>"
            ]
          },
          "metadata": {
            "tags": []
          },
          "execution_count": 92
        },
        {
          "output_type": "display_data",
          "data": {
            "image/png": "[encoded data removed]",
            "text/plain": [
              "<Figure size 432x288 with 1 Axes>"
            ]
          },
          "metadata": {
            "tags": [],
            "needs_background": "light"
          }
        }
      ]
    },
    {
      "cell_type": "markdown",
      "metadata": {
        "id": "xRxO3abja5QQ",
        "colab_type": "text"
      },
      "source": [
        "## Encode sequence as integers (index values)"
      ]
    },
    {
      "cell_type": "code",
      "metadata": {
        "id": "XNeeV7Zka5QR",
        "colab_type": "code",
        "colab": {}
      },
      "source": [
        "def encode(sequence, symbols):\n",
        "    \n",
        "    enc = [0] * len(sequence)\n",
        "    \n",
        "    for i in range(len(sequence)):\n",
        "        enc[i] = symbols.find(sequence[i])\n",
        "    \n",
        "    return(enc)"
      ],
      "execution_count": 93,
      "outputs": []
    },
    {
      "cell_type": "code",
      "metadata": {
        "id": "KWqdVNabRogk",
        "colab_type": "code",
        "colab": {}
      },
      "source": [
        "def normalize(v):\n",
        "    norm = np.sum(v)\n",
        "    v = v/norm\n",
        "    return (v, norm)"
      ],
      "execution_count": 94,
      "outputs": []
    },
    {
      "cell_type": "markdown",
      "metadata": {
        "colab_type": "text",
        "id": "_qWOQUfGkJOI"
      },
      "source": [
        "## Forward Loop"
      ]
    },
    {
      "cell_type": "code",
      "metadata": {
        "colab_type": "code",
        "id": "fyHv6-vuzxt2",
        "colab": {}
      },
      "source": [
        "def initialize_forward(input_encode, states, initial_prob, emission_probs):\n",
        "    \n",
        "    alpha = np.zeros(shape=(states, len(input_encode)))\n",
        "        \n",
        "    for i in range(0, states): \n",
        "        \n",
        "        alpha[i][0] = initial_prob[i]*emission_probs[i][input_encode[0]]\n",
        "        \n",
        "    return alpha"
      ],
      "execution_count": 95,
      "outputs": []
    },
    {
      "cell_type": "code",
      "metadata": {
        "colab_type": "code",
        "id": "2A6Rx7sukIjM",
        "scrolled": true,
        "colab": {}
      },
      "source": [
        "def run_forward(input_encode, states, initial_prob, emission_probs):\n",
        "\n",
        "    alpha = initialize_forward(input_encode, states, initial_prob, emission_probs)\n",
        "    norm_vector = np.zeros(len(input_encode))\n",
        "    alpha[:,0], norm_vector[0] = normalize(alpha[:,0])\n",
        "\n",
        "\n",
        "    for i in range(1, len(input_encode)):\n",
        "        \n",
        "        for j in range(0, states):\n",
        "\n",
        "            _sum = 0\n",
        "            \n",
        "            for k in range(0, states):\n",
        "                \n",
        "                _sum += alpha[k][i-1] * transition_matrix[k,j] \n",
        "      \n",
        "            # store prob\n",
        "            alpha[j][i] = emission_probs[j][input_encode[i]] * _sum\n",
        "\n",
        "        # Normalize\n",
        "        alpha[:,i],norm_vector[i] = normalize(alpha[:,i])\n",
        "\n",
        "    return alpha, norm_vector"
      ],
      "execution_count": 96,
      "outputs": []
    },
    {
      "cell_type": "markdown",
      "metadata": {
        "colab_type": "text",
        "id": "R8IztniOkK8Q"
      },
      "source": [
        "## Backward Loop"
      ]
    },
    {
      "cell_type": "code",
      "metadata": {
        "colab_type": "code",
        "id": "TngUQKM2kTY_",
        "colab": {}
      },
      "source": [
        "def initialize_backward(input_encode, states):\n",
        "  \n",
        "    \n",
        "    beta = np.zeros(shape=(states, len(input_encode)))\n",
        "        \n",
        "    for i in range(0, states):\n",
        "  \n",
        "        beta[i][-1] = 1\n",
        "        \n",
        "    return beta"
      ],
      "execution_count": 97,
      "outputs": []
    },
    {
      "cell_type": "code",
      "metadata": {
        "colab_type": "code",
        "id": "SasPJXJYnhM1",
        "colab": {}
      },
      "source": [
        "def run_backward(input_encode, states, emission_probs, transition_matrix, norm_vector):\n",
        "\n",
        "    beta = initialize_backward(input_encode, states)\n",
        "\n",
        "    for t in range(len(input_encode)-2, -1 , -1):\n",
        "      for i in range(states):\n",
        "\n",
        "            _sum = 0\n",
        "\n",
        "            for j in range(states):\n",
        "              _sum += beta[j][t+1] * transition_matrix[i][j] * emission_probs[j][input_encode[t+1]]\n",
        "                \n",
        "            # store prob\n",
        "            beta[i][t] = _sum\n",
        "\n",
        "      beta[:,t] = beta[:,t] / norm_vector[t]\n",
        "\n",
        "    return beta"
      ],
      "execution_count": 98,
      "outputs": []
    },
    {
      "cell_type": "markdown",
      "metadata": {
        "id": "UfTVUrwr9TsT",
        "colab_type": "text"
      },
      "source": [
        "##Load sequences"
      ]
    },
    {
      "cell_type": "code",
      "metadata": {
        "colab_type": "code",
        "id": "pmvxr0uUk_sd",
        "colab": {}
      },
      "source": [
        "symbols = \"012345\"\n",
        "\n",
        "max_seq_length = seq_len\n",
        "V = len(symbols)"
      ],
      "execution_count": 99,
      "outputs": []
    },
    {
      "cell_type": "markdown",
      "metadata": {
        "id": "bIHTEj4T8sqb",
        "colab_type": "text"
      },
      "source": [
        "##Implementaion of Baum-Welsh"
      ]
    },
    {
      "cell_type": "code",
      "metadata": {
        "id": "NlfxLsYBvNjV",
        "colab_type": "code",
        "colab": {
          "base_uri": "https://localhost:8080/",
          "height": 1000
        },
        "outputId": "d397c566-c52b-4ce1-be68-5a9b98f7c8b6"
      },
      "source": [
        "states = 2\n",
        "num_iters = 150\n",
        "\n",
        "initial_prob = [1.0/states, 1.0/states]\n",
        "\n",
        "transition_matrix = np.asarray([0.5, 0.05, 0.5, 0.5]).reshape(2,2)\n",
        "\n",
        "fair_prob = [1.0/6, 1./6, 1./6, 1./6, 1./6, 1./6]\n",
        "loaded_prob = [1./10, 1./10, 1./10, 1./10, 1./10, 5./10] \n",
        "emission_probs = [fair_prob, loaded_prob]\n",
        "\n",
        "for iteration in range(num_iters):\n",
        "  print('Starting iteration ', iteration)\n",
        "    \n",
        "  # Initiate xi\n",
        "  xi = np.zeros(max_seq_length*states*states*num_sequence).reshape(states,states,max_seq_length,num_sequence)\n",
        "\n",
        "  gamma = np.zeros(max_seq_length*states*num_sequence).reshape(states,max_seq_length,num_sequence)\n",
        "  gamma_sums = np.zeros(max_seq_length*states*num_sequence).reshape(states,max_seq_length,num_sequence)\n",
        "\n",
        "  for r in range(num_sequence):\n",
        "\n",
        "    # Load and encode sequence\n",
        "    input_encode = encoded_list[r] \n",
        "    T = len(input_encode)\n",
        "\n",
        "    # Calculate alpha and beta matrix\n",
        "    alpha, norm_vector = run_forward(input_encode, states, initial_prob, emission_probs)\n",
        "    beta = run_backward(input_encode, states, emission_probs, transition_matrix, norm_vector)\n",
        "\n",
        "    for i in range(states):\n",
        "      for t in range(T-1):\n",
        "        for j in range(states):\n",
        "\n",
        "          # Calculate denominator\n",
        "          gamma_sums[i][t][r] += alpha[j][t] * beta[j][t]\n",
        "          # Calculate Xi\n",
        "          \n",
        "          # Summation of denominator of xi\n",
        "          xi_denominator = 0\n",
        "\n",
        "          for k in range(states):\n",
        "            for w in range(states):\n",
        "\n",
        "              # check that transition matrix is defined correct?\n",
        "              xi_denominator += alpha[k][t] * transition_matrix[k][w] * beta[w][t+1] * emission_probs[w][input_encode[t+1]]\n",
        "\n",
        "          # Calculate xi\n",
        "          xi[i][j][t][r] = (alpha[i][t] * transition_matrix[i][j] * beta[j][t+1] * emission_probs[j][input_encode[t+1]]) / xi_denominator # Check this\n",
        "\n",
        "        gamma[i][t][r] = (alpha[i][t] * beta[i][t]) / gamma_sums[i][t][r]\n",
        "\n",
        "\n",
        "  # Update of parameters\n",
        "  for i in range(states):\n",
        "\n",
        "    # Update initial probabilities\n",
        "    initial_prob[i] = 0\n",
        "    for r in range(num_sequence):\n",
        "      initial_prob[i] += gamma[i][1][r] / num_sequence\n",
        "\n",
        "    for j in range(states):\n",
        "\n",
        "      # Update transition matrix\n",
        "      xi_sum = 0\n",
        "      gamma_sum = 0\n",
        "\n",
        "      for r in range(num_sequence):\n",
        "        T = len(encoded_list[r]) \n",
        "        for t in range(T-1):\n",
        "        \n",
        "          xi_sum += xi[i][j][t][r]\n",
        "          gamma_sum += gamma[i][t][r]\n",
        "      \n",
        "      transition_matrix[i][j] = xi_sum / gamma_sum\n",
        "      \n",
        "      # Update emission probs\n",
        "      for k in range(V):\n",
        "        denominator_sum = 0\n",
        "        numerator_sum = 0\n",
        "        for r in range(num_sequence):\n",
        "          T = len(encoded_list[r]) \n",
        "          for t in range(T):\n",
        "          \n",
        "            denominator_sum += gamma[i][t][r]\n",
        "        \n",
        "            if encoded_list[r][t] == k:\n",
        "              numerator_sum += gamma[i][t][r]\n",
        "          \n",
        "        emission_probs[i][k] = numerator_sum / denominator_sum\n",
        "\n",
        "  \n",
        "  # Normalize transition\n",
        "  for row in range(states):\n",
        "    summ = sum(transition_matrix[row])\n",
        "    for col in range(states):\n",
        "      transition_matrix[row][col] = transition_matrix[row][col] / summ\n",
        "  \n",
        "  # Normalize emission\n",
        "  for row in range(states):\n",
        "    summ = sum(emission_probs[row])\n",
        "    for col in range(V):\n",
        "      emission_probs[row][col] = emission_probs[row][col] / summ  \n",
        "\n",
        "print('iteration: ', iteration)\n",
        "print('Initial probabilities: ')\n",
        "print(initial_prob)\n",
        "print('Normalized transition matrix')\n",
        "print(transition_matrix)\n",
        "print('Normalized Emission probabilities')\n",
        "print(emission_probs)\n",
        "      "
      ],
      "execution_count": 100,
      "outputs": [
        {
          "output_type": "stream",
          "text": [
            "Starting iteration  0\n",
            "Starting iteration  1\n",
            "Starting iteration  2\n",
            "Starting iteration  3\n",
            "Starting iteration  4\n",
            "Starting iteration  5\n",
            "Starting iteration  6\n",
            "Starting iteration  7\n",
            "Starting iteration  8\n",
            "Starting iteration  9\n",
            "Starting iteration  10\n",
            "Starting iteration  11\n",
            "Starting iteration  12\n",
            "Starting iteration  13\n",
            "Starting iteration  14\n",
            "Starting iteration  15\n",
            "Starting iteration  16\n",
            "Starting iteration  17\n",
            "Starting iteration  18\n",
            "Starting iteration  19\n",
            "Starting iteration  20\n",
            "Starting iteration  21\n",
            "Starting iteration  22\n",
            "Starting iteration  23\n",
            "Starting iteration  24\n",
            "Starting iteration  25\n",
            "Starting iteration  26\n",
            "Starting iteration  27\n",
            "Starting iteration  28\n",
            "Starting iteration  29\n",
            "Starting iteration  30\n",
            "Starting iteration  31\n",
            "Starting iteration  32\n",
            "Starting iteration  33\n",
            "Starting iteration  34\n",
            "Starting iteration  35\n",
            "Starting iteration  36\n",
            "Starting iteration  37\n",
            "Starting iteration  38\n",
            "Starting iteration  39\n",
            "Starting iteration  40\n",
            "Starting iteration  41\n",
            "Starting iteration  42\n",
            "Starting iteration  43\n",
            "Starting iteration  44\n",
            "Starting iteration  45\n",
            "Starting iteration  46\n",
            "Starting iteration  47\n",
            "Starting iteration  48\n",
            "Starting iteration  49\n",
            "Starting iteration  50\n",
            "Starting iteration  51\n",
            "Starting iteration  52\n",
            "Starting iteration  53\n",
            "Starting iteration  54\n",
            "Starting iteration  55\n",
            "Starting iteration  56\n",
            "Starting iteration  57\n",
            "Starting iteration  58\n",
            "Starting iteration  59\n",
            "Starting iteration  60\n",
            "Starting iteration  61\n",
            "Starting iteration  62\n",
            "Starting iteration  63\n",
            "Starting iteration  64\n",
            "Starting iteration  65\n",
            "Starting iteration  66\n",
            "Starting iteration  67\n",
            "Starting iteration  68\n",
            "Starting iteration  69\n",
            "Starting iteration  70\n",
            "Starting iteration  71\n",
            "Starting iteration  72\n",
            "Starting iteration  73\n",
            "Starting iteration  74\n",
            "Starting iteration  75\n",
            "Starting iteration  76\n",
            "Starting iteration  77\n",
            "Starting iteration  78\n",
            "Starting iteration  79\n",
            "Starting iteration  80\n",
            "Starting iteration  81\n",
            "Starting iteration  82\n",
            "Starting iteration  83\n",
            "Starting iteration  84\n",
            "Starting iteration  85\n",
            "Starting iteration  86\n",
            "Starting iteration  87\n",
            "Starting iteration  88\n",
            "Starting iteration  89\n",
            "Starting iteration  90\n",
            "Starting iteration  91\n",
            "Starting iteration  92\n",
            "Starting iteration  93\n",
            "Starting iteration  94\n",
            "Starting iteration  95\n",
            "Starting iteration  96\n",
            "Starting iteration  97\n",
            "Starting iteration  98\n",
            "Starting iteration  99\n",
            "Starting iteration  100\n",
            "Starting iteration  101\n",
            "Starting iteration  102\n",
            "Starting iteration  103\n",
            "Starting iteration  104\n",
            "Starting iteration  105\n",
            "Starting iteration  106\n",
            "Starting iteration  107\n",
            "Starting iteration  108\n",
            "Starting iteration  109\n",
            "Starting iteration  110\n",
            "Starting iteration  111\n",
            "Starting iteration  112\n",
            "Starting iteration  113\n",
            "Starting iteration  114\n",
            "Starting iteration  115\n",
            "Starting iteration  116\n",
            "Starting iteration  117\n",
            "Starting iteration  118\n",
            "Starting iteration  119\n",
            "Starting iteration  120\n",
            "Starting iteration  121\n",
            "Starting iteration  122\n",
            "Starting iteration  123\n",
            "Starting iteration  124\n",
            "Starting iteration  125\n",
            "Starting iteration  126\n",
            "Starting iteration  127\n",
            "Starting iteration  128\n",
            "Starting iteration  129\n",
            "Starting iteration  130\n",
            "Starting iteration  131\n",
            "Starting iteration  132\n",
            "Starting iteration  133\n",
            "Starting iteration  134\n",
            "Starting iteration  135\n",
            "Starting iteration  136\n",
            "Starting iteration  137\n",
            "Starting iteration  138\n",
            "Starting iteration  139\n",
            "Starting iteration  140\n",
            "Starting iteration  141\n",
            "Starting iteration  142\n",
            "Starting iteration  143\n",
            "Starting iteration  144\n",
            "Starting iteration  145\n",
            "Starting iteration  146\n",
            "Starting iteration  147\n",
            "Starting iteration  148\n",
            "Starting iteration  149\n",
            "iteration:  149\n",
            "Initial probabilities: \n",
            "[0.5946801213785715, 0.4053198786214281]\n",
            "Normalized transition matrix\n",
            "[[0.95468201 0.04531799]\n",
            " [0.12333961 0.87666039]]\n",
            "Normalized Emission probabilities\n",
            "[[0.16773725255843575, 0.15699515741147055, 0.16121895757355875, 0.16072132960734378, 0.1742843712914214, 0.17904293155776985], [0.08564374183516049, 0.09997590702489116, 0.09793177608384937, 0.0850911867096696, 0.0747490491057354, 0.556608339240694]]\n"
          ],
          "name": "stdout"
        }
      ]
    },
    {
      "cell_type": "markdown",
      "metadata": {
        "id": "AcT_uajueEKj",
        "colab_type": "text"
      },
      "source": [
        "# Viterbi - Run on one sequence"
      ]
    },
    {
      "cell_type": "code",
      "metadata": {
        "id": "uTt69H1mETqE",
        "colab_type": "code",
        "colab": {}
      },
      "source": [
        "# Generate test data\n",
        "num_sequence = 100\n",
        "seq_len = 40\n",
        "\n",
        "test_list = []\n",
        "target_list = []\n",
        "for i in range(num_sequence):\n",
        "  seq, tar = GenerateDiceData(seq_len)\n",
        "  test_list.append(seq)\n",
        "  target_list.append(tar)"
      ],
      "execution_count": 101,
      "outputs": []
    },
    {
      "cell_type": "code",
      "metadata": {
        "id": "0Ip_ubaaeGHl",
        "colab_type": "code",
        "colab": {}
      },
      "source": [
        "def initialize(encode_sequence, states, initial_prob, transition_matrix, emission_probs):\n",
        "    \n",
        "    delta = np.zeros(shape=(states, len(encode_sequence)))\n",
        "    \n",
        "    arrows = np.ndarray(shape=(states, len(encode_sequence)), dtype=object)\n",
        "    \n",
        "    # initial conditions\n",
        "    for i in range(0, states):\n",
        "\n",
        "\t## delta[i][0] = XX  \n",
        "        delta[i][0] = initial_prob[i] + emission_probs[i][encode_sequence[0]]\n",
        "    \n",
        "        arrows[i][0] = 0\n",
        "    \n",
        "    return delta, arrows"
      ],
      "execution_count": 102,
      "outputs": []
    },
    {
      "cell_type": "code",
      "metadata": {
        "id": "eM3R0YT-eHOg",
        "colab_type": "code",
        "colab": {
          "base_uri": "https://localhost:8080/",
          "height": 34
        },
        "outputId": "0ac8c3e1-5ba0-4a27-cae2-086373a9bac6"
      },
      "source": [
        "# Loop for calculating accuracy\n",
        "from sklearn.metrics import accuracy_score\n",
        "\n",
        "accuracies = []\n",
        "\n",
        "for seq_id in range(num_sequence):\n",
        "\n",
        "  input_encode = test_list[seq_id]\n",
        "\n",
        "  delta, arrows = initialize(input_encode, states, initial_prob, transition_matrix, emission_probs)\n",
        "\n",
        "  # main loop\n",
        "  for i in range(1, len(input_encode)):\n",
        "      \n",
        "      for j in range(0, states):\n",
        "          \n",
        "          max_arrow_prob = -np.inf\n",
        "          max_arrow_prob_state = -1\n",
        "          \n",
        "          for k in range(0, states):\n",
        "            \n",
        "        # arrow_prob = XX \n",
        "              arrow_prob = delta[k][i-1] + transition_matrix[k, j]\n",
        "              \n",
        "              if arrow_prob > max_arrow_prob: \n",
        "      # max_arrow_prob = XX\n",
        "                  max_arrow_prob = arrow_prob\n",
        "                  # max_arrow_prob_state = XX\n",
        "                  max_arrow_prob_state = k\n",
        "              \n",
        "          # store prob\n",
        "    # delta[j][i] = XX + max_arrow_prob\n",
        "          delta[j][i] = emission_probs[j][input_encode[i]] + max_arrow_prob\n",
        "\n",
        "          # store arrow\n",
        "          arrows[j][i] = max_arrow_prob_state\n",
        "\n",
        "  path = []\n",
        "\n",
        "  max_state = np.argmax(delta[:, -1])\n",
        "  max_value = delta[max_state, -1]\n",
        "\n",
        "  path.append(int(max_state))\n",
        "\n",
        "  old_state = max_state\n",
        "\n",
        "  for i in range(len(input_encode)-2, -1, -1):\n",
        "    \n",
        "    # current_state = arrows[XX][i+1]\n",
        "    current_state = arrows[old_state][i+1]\n",
        "    path.append(int(current_state))\n",
        "\n",
        "    old_state = current_state \n",
        "\n",
        "  path.reverse()\n",
        "  accuracies.append(accuracy_score(np.array(list(path)), np.array(target_list[seq_id])))\n",
        "\n",
        "print('Accuracy on test data:', np.mean(accuracies))"
      ],
      "execution_count": 103,
      "outputs": [
        {
          "output_type": "stream",
          "text": [
            "Accuracy on test data: 0.7722499999999998\n"
          ],
          "name": "stdout"
        }
      ]
    }
  ]
}